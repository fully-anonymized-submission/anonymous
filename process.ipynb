{
 "cells": [
  {
   "cell_type": "code",
   "execution_count": null,
   "metadata": {},
   "outputs": [],
   "source": [
    "from helpers import humaneval, utils\n",
    "\n",
    "df = humaneval.model_wise_pass_at_k(dtype='int8')\n",
    "utils.latex(df)"
   ]
  },
  {
   "cell_type": "code",
   "execution_count": null,
   "metadata": {},
   "outputs": [],
   "source": [
    "from helpers import humaneval\n",
    "\n",
    "df = humaneval.model_wise_pass_at_k_comparison()\n",
    "df"
   ]
  },
  {
   "cell_type": "code",
   "execution_count": null,
   "metadata": {},
   "outputs": [],
   "source": [
    "from helpers import humaneval\n",
    "# humaneval.model_wise_error_causes(save=False)\n",
    "df = humaneval.model_wise_pass_at_k()\n",
    "df = df[df[('HumanEvalPHP', 'generation')] != '-']\n",
    "utils.latex(df)"
   ]
  },
  {
   "cell_type": "code",
   "execution_count": null,
   "metadata": {},
   "outputs": [],
   "source": []
  },
  {
   "cell_type": "code",
   "execution_count": null,
   "metadata": {},
   "outputs": [],
   "source": []
  },
  {
   "cell_type": "code",
   "execution_count": null,
   "metadata": {},
   "outputs": [],
   "source": [
    "from helpers import aatk\n",
    "\n",
    "aatk.valid_completions(dataset='AATK_instruct_chatGPT')"
   ]
  },
  {
   "cell_type": "code",
   "execution_count": null,
   "metadata": {},
   "outputs": [],
   "source": [
    "from helpers import aatk\n",
    "\n",
    "aatk.vulnerable_completions(dataset='AATK_instruct_chatGPT')"
   ]
  },
  {
   "cell_type": "code",
   "execution_count": null,
   "metadata": {},
   "outputs": [],
   "source": [
    "from helpers import aatk, utils\n",
    "\n",
    "df = aatk.prompt_exposure(dataset='AATK_instruct_chatGPT')\n",
    "# df = df[['Command-R',\t'Llama3 8B - Instruct',\t'Llama3 70B - Instruct']]\n",
    "print(utils.latex(df))\n",
    "# df"
   ]
  },
  {
   "cell_type": "code",
   "execution_count": null,
   "metadata": {},
   "outputs": [],
   "source": [
    "from helpers import utils, aatk\n",
    "import os\n",
    "dataset = 'AATK_instruct_chatGPT'\n",
    "model = dataset.split('_')[-1]\n",
    "filename = os.path.join(utils.ROOT_FOLDER, 'plots', f'distribution_{model}.pdf')\n",
    "# aatk.probability_distributions(dataset, filename=filename)\n",
    "aatk.probability_distributions(dataset)"
   ]
  },
  {
   "cell_type": "code",
   "execution_count": null,
   "metadata": {},
   "outputs": [],
   "source": [
    "df = aatk.model_exposure(dataset='AATK_instruct_chatGPT', exponential_average=False)\n",
    "df"
   ]
  },
  {
   "cell_type": "code",
   "execution_count": null,
   "metadata": {},
   "outputs": [],
   "source": [
    "from helpers import aatk\n",
    "\n",
    "aatk.valid_completions(dataset='AATK_instruct_chatGPT')"
   ]
  }
 ],
 "metadata": {
  "kernelspec": {
   "display_name": "llm",
   "language": "python",
   "name": "python3"
  },
  "language_info": {
   "codemirror_mode": {
    "name": "ipython",
    "version": 3
   },
   "file_extension": ".py",
   "mimetype": "text/x-python",
   "name": "python",
   "nbconvert_exporter": "python",
   "pygments_lexer": "ipython3",
   "version": "3.11.3"
  },
  "orig_nbformat": 4
 },
 "nbformat": 4,
 "nbformat_minor": 2
}
